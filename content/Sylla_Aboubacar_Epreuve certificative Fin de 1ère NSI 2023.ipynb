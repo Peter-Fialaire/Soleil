{
 "cells": [
  {
   "cell_type": "markdown",
   "id": "05e3ad67",
   "metadata": {
    "deletable": false,
    "editable": false
   },
   "source": [
    "<div style=\"text-align:center; border:2px solid black; font-size: 1.8em;\">\n",
    "<h1>EPREUVE CERTIFICATIVE</h1>\n",
    "<h1>1\u00e8re NSI _ 2023</h1>\n",
    "    <br>\n",
    "</div>"
   ]
  },
  {
   "cell_type": "code",
   "execution_count": null,
   "id": "9abda660",
   "metadata": {},
   "outputs": [],
   "source": [
    "Nom : Sylla\n",
    "Pr\u00e9nom : Aboubacar"
   ]
  },
  {
   "cell_type": "markdown",
   "id": "f1697e38",
   "metadata": {
    "deletable": false,
    "editable": false
   },
   "source": [
    "<div style=\"text-align:center; border:2px solid black; font-size: 1.8em;\">\n",
    "<h1>Algorithmique</h1>\n",
    "    <br>\n",
    "</div>"
   ]
  },
  {
   "cell_type": "markdown",
   "id": "87b46d3c",
   "metadata": {
    "deletable": false,
    "editable": false
   },
   "source": [
    "<div style=\"text-align:center; border:0px ;background-color:DodgerBlue;margin:10px 10px 0px 10px;padding:10px;\">\n",
    "    </div>\n",
    "<div style=\"border:2px solid DarkBlue;margin:0px 10px 10px 10px;padding:10px;\">\n",
    "<h4><u>Exercice 1</u> : </h4><br>\n",
    "Ecrire un script Python qui instancie un nombre entier, puis qui teste puis affiche si ce nombre (<u>ce nombre doit s'afficher dans la r\u00e9ponse</u>) est divisible par 10 ou non.<br><br>\n",
    "<u>Exemple</u> : <br><br>\n",
    "Le nombre 23 n'est pas divisible par 10."
   ]
  },
  {
   "cell_type": "code",
   "execution_count": null,
   "id": "2b3c4d42",
   "metadata": {},
   "outputs": [],
   "source": [
    " "
   ]
  },
  {
   "cell_type": "markdown",
   "id": "ff9c82ae",
   "metadata": {
    "deletable": false,
    "editable": false
   },
   "source": [
    "<div style=\"text-align:center; border:0px ;background-color:DodgerBlue;margin:10px 10px 0px 10px;padding:10px;\">\n",
    "    </div>\n",
    "<div style=\"border:2px solid DarkBlue;margin:0px 10px 10px 10px;padding:10px;\">\n",
    "<h4><u>Exercice 2</u> : </h4><br>\n",
    "Ecrire un script Python qui instancie un nombre entier, puis qui teste et affiche s'il est divisible par 10\n",
    "    <b><u>ou</u></b> par 4 <b><u>en utilisant un op\u00e9rateur bool\u00e9en</u></b> :<br><br>\n",
    "<u>Exemple</u> : <br><br>\n",
    "Le nombre 21 est divisible par 5 ou par 3."
   ]
  },
  {
   "cell_type": "code",
   "execution_count": null,
   "id": "4d4d7285",
   "metadata": {},
   "outputs": [],
   "source": [
    "  "
   ]
  },
  {
   "cell_type": "markdown",
   "id": "02c8b09f",
   "metadata": {
    "deletable": false,
    "editable": false
   },
   "source": [
    "<div style=\"text-align:center; border:0px ;background-color:DodgerBlue;margin:10px 10px 0px 10px;padding:10px;\">\n",
    "    </div>\n",
    "<div style=\"border:2px solid DarkBlue;margin:0px 10px 10px 10px;padding:10px;\">\n",
    "<h4><u>Exercice 3</u> : </h4><br>\n",
    "Ecrire un script Python qui affiche, les uns apr\u00e8s les autres, certains jour de la semaine (d\u00e9marrant de mercredi jusqu'\u00e0 samedi inclu) <b><u>en utilisant une liste <u>compl\u00e8te</u> des mois de l'ann\u00e9e, et une boucle it\u00e9rative</u></b> :"
   ]
  },
  {
   "cell_type": "code",
   "execution_count": null,
   "id": "4c17d435",
   "metadata": {},
   "outputs": [],
   "source": []
  },
  {
   "cell_type": "markdown",
   "id": "52152b29",
   "metadata": {
    "deletable": false,
    "editable": false
   },
   "source": [
    "<div style=\"text-align:center; border:0px ;background-color:DodgerBlue;margin:10px 10px 0px 10px;padding:10px;\">\n",
    "    </div>\n",
    "<div style=\"border:2px solid DarkBlue;margin:0px 10px 10px 10px;padding:10px;\">\n",
    "<h4><u>Exercice 4</u> : </h4><br>\n",
    "    Ecrire un script Python qui instancie un mot, puis, qui affiche des bouts de 2 lettres successives de ce mot, se d\u00e9calant progressivement vers la fin du mot, <b><u>Tant que</u></b> la fin du mot n'est pas atteinte.<br><br>\n",
    "<u>exemple</u> : pour le mot ordinateur :<br><br>\n",
    "or<br>\n",
    "rd<br>\n",
    "di<br>\n",
    "in<br>\n",
    "na<br>\n",
    "at<br>\n",
    "te<br>\n",
    "eu<br>\n",
    "ur<br>"
   ]
  },
  {
   "cell_type": "code",
   "execution_count": null,
   "id": "5ed42328",
   "metadata": {},
   "outputs": [],
   "source": []
  },
  {
   "cell_type": "markdown",
   "id": "a4336219",
   "metadata": {
    "deletable": false,
    "editable": false
   },
   "source": [
    "<div style=\"text-align:center; border:2px solid black; font-size: 1.8em;\">\n",
    "<h1>Repr\u00e9sentation des donn\u00e9es</h1>\n",
    "    <br>\n",
    "</div>"
   ]
  },
  {
   "cell_type": "markdown",
   "id": "bcdfa1df",
   "metadata": {
    "deletable": false,
    "editable": false
   },
   "source": [
    "<div style=\"text-align:center; border:0px ;background-color:DodgerBlue;margin:10px 10px 0px 10px;padding:10px;\">\n",
    "    </div>\n",
    "<div style=\"border:2px solid DarkBlue;margin:0px 10px 10px 10px;padding:10px;\">\n",
    "<h4><u>Exercice 5</u> : </h4><br>\n",
    "Expliquer comment, math\u00e9matiquement, on obtiens la repr\u00e9sentation binaire d'un nombre d\u00e9cimal : Prenez pour exemple le nombre d\u00e9cimal 11."
   ]
  },
  {
   "cell_type": "code",
   "execution_count": null,
   "id": "79578f29",
   "metadata": {},
   "outputs": [],
   "source": []
  },
  {
   "cell_type": "markdown",
   "id": "d45addae",
   "metadata": {
    "deletable": false,
    "editable": false
   },
   "source": [
    "<div style=\"text-align:center; border:0px ;background-color:DodgerBlue;margin:10px 10px 0px 10px;padding:10px;\">\n",
    "    </div>\n",
    "<div style=\"border:2px solid DarkBlue;margin:0px 10px 10px 10px;padding:10px;\">\n",
    "<h4><u>Exercice 6</u> : </h4><br>\n",
    "Expliquer comment, math\u00e9matiquement, on obtiens un nombre d\u00e9cimal \u00e0 partir de sa repr\u00e9sentation binaire : Prenez pour exemple le nombre binaire 1011."
   ]
  },
  {
   "cell_type": "code",
   "execution_count": null,
   "id": "7987559e",
   "metadata": {},
   "outputs": [],
   "source": []
  },
  {
   "cell_type": "markdown",
   "id": "a2c2cb9a",
   "metadata": {
    "deletable": false,
    "editable": false
   },
   "source": [
    "<div style=\"text-align:center; border:0px ;background-color:DodgerBlue;margin:10px 10px 0px 10px;padding:10px;\">\n",
    "    </div>\n",
    "<div style=\"border:2px solid DarkBlue;margin:0px 10px 10px 10px;padding:10px;\">\n",
    "<h4><u>Exercice 7</u> : </h4><br>\n",
    "Donnez la r\u00e8gle de base de l'addition de 2 nombres binaires en donnant les r\u00e9sultats de 0+0, puis de 1+0 et enfin de 1+1."
   ]
  },
  {
   "cell_type": "code",
   "execution_count": null,
   "id": "6a778428",
   "metadata": {},
   "outputs": [],
   "source": []
  },
  {
   "cell_type": "markdown",
   "id": "9f38d9f6",
   "metadata": {
    "deletable": false,
    "editable": false
   },
   "source": [
    "<div style=\"text-align:center; border:0px ;background-color:DodgerBlue;margin:10px 10px 0px 10px;padding:10px;\">\n",
    "    </div>\n",
    "<div style=\"border:2px solid DarkBlue;margin:0px 10px 10px 10px;padding:10px;\">\n",
    "<h4><u>Exercice 8</u> : </h4><br>\n",
    "D\u00e9taillez, en fran\u00e7ais, comment se d\u00e9roule la soustraction de 2 nombres binaires : vous prendrez comme exemple la soustraction sous 8 bits de :<br> 100 - 10."
   ]
  },
  {
   "cell_type": "code",
   "execution_count": null,
   "id": "2606519e",
   "metadata": {},
   "outputs": [],
   "source": []
  },
  {
   "cell_type": "markdown",
   "id": "3e13fb6f",
   "metadata": {
    "deletable": false,
    "editable": false
   },
   "source": [
    "<div style=\"text-align:center; border:2px solid black; font-size: 1.8em;\">\n",
    "<h1>Types construits</h1>\n",
    "    <br>\n",
    "</div>"
   ]
  },
  {
   "cell_type": "markdown",
   "id": "91ad0c25",
   "metadata": {
    "deletable": false,
    "editable": false
   },
   "source": [
    "<div style=\"text-align:center; border:0px ;background-color:DodgerBlue;margin:10px 10px 0px 10px;padding:10px;\">\n",
    "    </div>\n",
    "<div style=\"border:2px solid DarkBlue;margin:0px 10px 10px 10px;padding:10px;\">\n",
    "<h4><u>Exercice 9</u> : </h4><br>\n",
    "Ecrire un code python qui instancie une liste de 5 pr\u00e9noms, puis qui les affiche dans l'ordre inverse de leur position dans la liste, <u>\u00e0 l'aide d'une boucle</u> :"
   ]
  },
  {
   "cell_type": "code",
   "execution_count": null,
   "id": "494d8a45",
   "metadata": {},
   "outputs": [],
   "source": []
  },
  {
   "cell_type": "markdown",
   "id": "c3718db3",
   "metadata": {
    "deletable": false,
    "editable": false
   },
   "source": [
    "<div style=\"text-align:center; border:0px ;background-color:DodgerBlue;margin:10px 10px 0px 10px;padding:10px;\">\n",
    "    </div>\n",
    "<div style=\"border:2px solid DarkBlue;margin:0px 10px 10px 10px;padding:10px;\">\n",
    "<h4><u>Exercice 10</u> : </h4><br>\n",
    "    Ecrire un code python qui instancie, <b><u> par compr\u00e9hension </u></b> une liste des multiples de 8 compris entre 1 et 65, puis l'afficher :"
   ]
  },
  {
   "cell_type": "code",
   "execution_count": null,
   "id": "5fd7fe63",
   "metadata": {},
   "outputs": [],
   "source": []
  },
  {
   "cell_type": "markdown",
   "id": "764d1ed4",
   "metadata": {
    "deletable": false,
    "editable": false
   },
   "source": [
    "<div style=\"text-align:center; border:0px ;background-color:DodgerBlue;margin:10px 10px 0px 10px;padding:10px;\">\n",
    "    </div>\n",
    "<div style=\"border:2px solid DarkBlue;margin:0px 10px 10px 10px;padding:10px;\">\n",
    "<h4><u>Exercice 11</u> : </h4><br>\n",
    "Soit 2 listes : A = [1, 3, 5, 7, 9 ] et B = [2, 4, 6, 8, 10]  <br>\n",
    "Ecrire un code Python qui instancie directement les listes A et B ; puis qui cr\u00e9e une liste C <u>\u00e0 partir des listes A et B</u> telle que C contienne d'abord les \u00e9l\u00e9ments de B puis ceux de A ;<br>\n",
    "Puis votre code <u>ajoute</u> l'\u00e9l\u00e9m\u00e9nt 11 \u00e0 la liste C. <br>\n",
    "Enfin, votre code transforme votre liste C pour que tous ses \u00e9l\u00e9ments soient dans l'ordre croissant.\n",
    "Le r\u00e9sultat est alors affich\u00e9."
   ]
  },
  {
   "cell_type": "code",
   "execution_count": null,
   "id": "2e3f8db7",
   "metadata": {},
   "outputs": [],
   "source": []
  },
  {
   "cell_type": "markdown",
   "id": "13aa3f42",
   "metadata": {
    "deletable": false,
    "editable": false
   },
   "source": [
    "<div style=\"text-align:center; border:0px ;background-color:DodgerBlue;margin:10px 10px 0px 10px;padding:10px;\">\n",
    "    </div>\n",
    "<div style=\"border:2px solid DarkBlue;margin:0px 10px 10px 10px;padding:10px;\">\n",
    "<h4><u>Exercice 12</u> : </h4><br>\n",
    "Ecrire un code Python qui instancie directement un dictionnaire nomm\u00e9 Garage et qui contient pour cl\u00e9s : 2 outils, et pour valeurs : le nombre de ces outils. <br>\n",
    "Puis votre code affiche ce dictionnaire.<br>\n",
    "<ul>\n",
    "    <li>puis votre code instancie une variable Nouvel_outil contenant le nom d'un nouvel outil,</li>\n",
    "    <li>puis votre code instancie une variable Nouvel_outil_Quantite contenant la quantit\u00e9 de ce nouvel outil,</li>\n",
    "    <br><br>\n",
    "    <li>Puis votre code insert ce nouvel outil et sa quantit\u00e9 dans le Garage.</li>\n",
    "    <li>Enfin, votre code, <b>\u00e0 l'aide d'une boucle</b> affiche l'inventaire de ce Garage.</li>\n",
    "    </ul>"
   ]
  },
  {
   "cell_type": "code",
   "execution_count": null,
   "id": "ffe253e5",
   "metadata": {},
   "outputs": [],
   "source": []
  },
  {
   "cell_type": "markdown",
   "id": "4ad53ee3",
   "metadata": {
    "deletable": false,
    "editable": false
   },
   "source": [
    "<div style=\"text-align:center; border:0px ;background-color:DodgerBlue;margin:10px 10px 0px 10px;padding:10px;\">\n",
    "    </div>\n",
    "<div style=\"border:2px solid DarkBlue;margin:0px 10px 10px 10px;padding:10px;\">\n",
    "<h4><u>Exercice 13</u> : </h4><br>\n",
    "Soit 2 listes : A et B de 4 mots : la premi\u00e8re en fran\u00e7ais et la seconde : la traduction de ces 4 mots.<br>\n",
    "Ecrire un code Python qui instancie directement les listes A et B ; puis qui cr\u00e9e <b><u>par compr\u00e9hension</u></b> un dictionnaire nom\u00e9 Dico o\u00f9 la cl\u00e9 est l'\u00e9l\u00e9ment de A et la valeur est l'\u00e9l\u00e9ment de B correspondant.<br> \n",
    "Puis votre code affiche ce dictionnaire."
   ]
  },
  {
   "cell_type": "code",
   "execution_count": null,
   "id": "30b442da",
   "metadata": {},
   "outputs": [],
   "source": []
  },
  {
   "cell_type": "markdown",
   "id": "e74281ca",
   "metadata": {
    "deletable": false,
    "editable": false
   },
   "source": [
    "<div style=\"text-align:center; border:2px solid black; font-size: 1.8em;\">\n",
    "<h1>Traitement de donn\u00e9es en table</h1>\n",
    "    <br>\n",
    "</div>"
   ]
  },
  {
   "cell_type": "markdown",
   "id": "c8773865",
   "metadata": {
    "deletable": false,
    "editable": false
   },
   "source": [
    "<div style=\"text-align:center; border:0px ;background-color:DodgerBlue;margin:10px 10px 0px 10px;padding:10px;\">\n",
    "    </div>\n",
    "<div style=\"border:2px solid DarkBlue;margin:0px 10px 10px 10px;padding:10px;\">\n",
    "<h4><u>Exercice 14</u> : </h4><br>\n",
    "Soit 1 fichier CSV nomm\u00e9 'liste-des-gares.csv' (ce fichier est accessible)<br>\n",
    "Ecrire un code Python qui instancie la cr\u00e9ation d'une liste de dictionnaires ordonn\u00e9s nomm\u00e9 Gares \u00e0 partir de ce fichier CSV.<br>\n",
    "Puis votre code pr\u00e9sente le 1er et le dernier \u00e9l\u00e9ment de cette liste de gares."
   ]
  },
  {
   "cell_type": "code",
   "execution_count": null,
   "id": "a1fc75cf",
   "metadata": {},
   "outputs": [],
   "source": []
  },
  {
   "cell_type": "markdown",
   "id": "188d7e84",
   "metadata": {
    "deletable": false,
    "editable": false
   },
   "source": [
    "<div style=\"text-align:center; border:0px ;background-color:DodgerBlue;margin:10px 10px 0px 10px;padding:10px;\">\n",
    "    </div>\n",
    "<div style=\"border:2px solid DarkBlue;margin:0px 10px 10px 10px;padding:10px;\">\n",
    "<h4><u>Exercice 15</u> : </h4><br>\n",
    "Soit 1 liste de dictionnaires ordonn\u00e9s, obtenue \u00e0 partir d'un fichier CSV correspondant \u00e0 des gares :<br><br>\n",
    "\n",
    "Liste_des_gares = [{'code_uic': '87172239', 'libelle': 'Donchery', 'fret': 'O', 'voyageurs': 'O', 'code_ligne': '204000', 'rg_troncon': '2', 'pk': '154+063', 'commune': 'DONCHERY', 'departemen': 'ARDENNES', 'idreseau': '3985', 'idgaia': 'd97a7a40-6667-11e3-89ff-01f464e0362d', 'x_l93': '835327.3869000003', 'y_l93': '6957080.5945999995', 'x_wgs84': '4.874829747177437', 'y_wgs84': '49.6983163493635', 'c_geo': '49.6983163493635,4.874829747177437', 'geo_point_2d': '49.69831634841525,4.874829747177438', 'geo_shape': '{\"coordinates\": [4.874829747177438, 49.69831634841525], \"type\": \"Point\"}'}, {'code_uic': '87171009', 'libelle': 'Reims', 'fret': 'O', 'voyageurs': 'O', 'code_ligne': '205000', 'rg_troncon': '1', 'pk': '054+814', 'commune': 'REIMS', 'departemen': 'MARNE', 'idreseau': '6220', 'idgaia': 'e1bc0014-19bf-11e5-a6ff-01fc64e0362d', 'x_l93': '774583.2399000004', 'y_l93': '6907129.5297', 'x_wgs84': '4.024434919226614', 'y_wgs84': '49.25946798426691', 'c_geo': '49.25946798426691,4.024434919226614', 'geo_point_2d': '49.25946798331426,4.024434919226613', 'geo_shape': '{\"coordinates\": [4.024434919226613, 49.25946798331426], \"type\": \"Point\"}'}, {'code_uic': '87172080', 'libelle': 'Revin', 'fret': 'O', 'voyageurs': 'O', 'code_ligne': '205000', 'rg_troncon': '1', 'pk': '175+403', 'commune': 'REVIN', 'departemen': 'ARDENNES', 'idreseau': '6243', 'idgaia': '29a3c700-dfbc-11e3-a2ff-01a464e0362d', 'x_l93': '818031.8439999968', 'y_l93': '6983536.927700002', 'x_wgs84': '4.642915600499463', 'y_wgs84': '49.93940438289336', 'c_geo': '49.93940438289336,4.642915600499463', 'geo_point_2d': '49.93940438194757,4.642915600499462', 'geo_shape': '{\"coordinates\": [4.642915600499462, 49.93940438194757], \"type\": \"Point\"}'}, {'code_uic': '87174821', 'libelle': 'Suippes', 'fret': 'O', 'voyageurs': 'N', 'code_ligne': '085000', 'rg_troncon': '1', 'pk': '202+219', 'commune': 'SUIPPES', 'departemen': 'MARNE', 'idreseau': '6907', 'idgaia': '298d874e-dfbc-11e3-a2ff-01a464e0362d', 'x_l93': '812651.7955000028', 'y_l93': '6892240.608199999', 'x_wgs84': '4.543216720152278', 'y_wgs84': '49.12006402563912', 'c_geo': '49.12006402563912,4.543216720152278', 'geo_point_2d': '49.12006402468511,4.543216720152278', 'geo_shape': '{\"coordinates\": [4.543216720152278, 49.12006402468511], \"type\": \"Point\"}'}, {'code_uic': '87172007', 'libelle': 'Charleville-M\u00e9zi\u00e8res', 'fret': 'O', 'voyageurs': 'O', 'code_ligne': '223000', 'rg_troncon': '1', 'pk': '142+488', 'commune': 'CHARLEVILLE-MEZIERES', 'departemen': 'ARDENNES', 'idreseau': '3621', 'idgaia': 'd970a13e-6667-11e3-89ff-01f464e0362d', 'x_l93': '824360.4904000014', 'y_l93': '6964541.866300002', 'x_wgs84': '4.725202519713612', 'y_wgs84': '49.76758462699033', 'c_geo': '49.76758462699033,4.725202519713612', 'geo_point_2d': '49.767584626042776,4.725202519713612', 'geo_shape': '{\"coordinates\": [4.725202519713612, 49.767584626042776], \"type\": \"Point\"}'}]<br><br>\n",
    "    \n",
    "Ecrire un code Python qui commence par instancier cette liste, puis qui r\u00e9alise la <b><u>s\u00e9l\u00e9ction</u></b> par <b><u>compr\u00e9hension</u></b> des gares situ\u00e9es dans le d\u00e9partement de la Marne (cette s\u00e9lection sera une liste de dictionnaires ordonn\u00e9s nomm\u00e9e Gares_Dep_51).<br>\n",
    "Puis votre code affiche cette nouvelle liste Gares_Dep_51 :"
   ]
  },
  {
   "cell_type": "code",
   "execution_count": null,
   "id": "afbfdfe6",
   "metadata": {},
   "outputs": [],
   "source": []
  },
  {
   "cell_type": "markdown",
   "id": "62c2e6e6",
   "metadata": {
    "deletable": false,
    "editable": false
   },
   "source": [
    "<div style=\"text-align:center; border:0px ;background-color:DodgerBlue;margin:10px 10px 0px 10px;padding:10px;\">\n",
    "    </div>\n",
    "<div style=\"border:2px solid DarkBlue;margin:0px 10px 10px 10px;padding:10px;\">\n",
    "<h4><u>Exercice 16</u> : </h4><br>\n",
    "Soit 1 liste de dictionnaires ordonn\u00e9s, obtenue \u00e0 partir d'un fichier CSV correspondant \u00e0 des gares :<br><br>\n",
    "\n",
    "Liste_des_gares = [{'code_uic': '87172239', 'libelle': 'Donchery', 'fret': 'O', 'voyageurs': 'O', 'code_ligne': '204000', 'rg_troncon': '2', 'pk': '154+063', 'commune': 'DONCHERY', 'departemen': 'ARDENNES', 'idreseau': '3985', 'idgaia': 'd97a7a40-6667-11e3-89ff-01f464e0362d', 'x_l93': '835327.3869000003', 'y_l93': '6957080.5945999995', 'x_wgs84': '4.874829747177437', 'y_wgs84': '49.6983163493635', 'c_geo': '49.6983163493635,4.874829747177437', 'geo_point_2d': '49.69831634841525,4.874829747177438', 'geo_shape': '{\"coordinates\": [4.874829747177438, 49.69831634841525], \"type\": \"Point\"}'}, {'code_uic': '87171009', 'libelle': 'Reims', 'fret': 'O', 'voyageurs': 'O', 'code_ligne': '205000', 'rg_troncon': '1', 'pk': '054+814', 'commune': 'REIMS', 'departemen': 'MARNE', 'idreseau': '6220', 'idgaia': 'e1bc0014-19bf-11e5-a6ff-01fc64e0362d', 'x_l93': '774583.2399000004', 'y_l93': '6907129.5297', 'x_wgs84': '4.024434919226614', 'y_wgs84': '49.25946798426691', 'c_geo': '49.25946798426691,4.024434919226614', 'geo_point_2d': '49.25946798331426,4.024434919226613', 'geo_shape': '{\"coordinates\": [4.024434919226613, 49.25946798331426], \"type\": \"Point\"}'}, {'code_uic': '87172080', 'libelle': 'Revin', 'fret': 'O', 'voyageurs': 'O', 'code_ligne': '205000', 'rg_troncon': '1', 'pk': '175+403', 'commune': 'REVIN', 'departemen': 'ARDENNES', 'idreseau': '6243', 'idgaia': '29a3c700-dfbc-11e3-a2ff-01a464e0362d', 'x_l93': '818031.8439999968', 'y_l93': '6983536.927700002', 'x_wgs84': '4.642915600499463', 'y_wgs84': '49.93940438289336', 'c_geo': '49.93940438289336,4.642915600499463', 'geo_point_2d': '49.93940438194757,4.642915600499462', 'geo_shape': '{\"coordinates\": [4.642915600499462, 49.93940438194757], \"type\": \"Point\"}'}, {'code_uic': '87174821', 'libelle': 'Suippes', 'fret': 'O', 'voyageurs': 'N', 'code_ligne': '085000', 'rg_troncon': '1', 'pk': '202+219', 'commune': 'SUIPPES', 'departemen': 'MARNE', 'idreseau': '6907', 'idgaia': '298d874e-dfbc-11e3-a2ff-01a464e0362d', 'x_l93': '812651.7955000028', 'y_l93': '6892240.608199999', 'x_wgs84': '4.543216720152278', 'y_wgs84': '49.12006402563912', 'c_geo': '49.12006402563912,4.543216720152278', 'geo_point_2d': '49.12006402468511,4.543216720152278', 'geo_shape': '{\"coordinates\": [4.543216720152278, 49.12006402468511], \"type\": \"Point\"}'}, {'code_uic': '87172007', 'libelle': 'Charleville-M\u00e9zi\u00e8res', 'fret': 'O', 'voyageurs': 'O', 'code_ligne': '223000', 'rg_troncon': '1', 'pk': '142+488', 'commune': 'CHARLEVILLE-MEZIERES', 'departemen': 'ARDENNES', 'idreseau': '3621', 'idgaia': 'd970a13e-6667-11e3-89ff-01f464e0362d', 'x_l93': '824360.4904000014', 'y_l93': '6964541.866300002', 'x_wgs84': '4.725202519713612', 'y_wgs84': '49.76758462699033', 'c_geo': '49.76758462699033,4.725202519713612', 'geo_point_2d': '49.767584626042776,4.725202519713612', 'geo_shape': '{\"coordinates\": [4.725202519713612, 49.767584626042776], \"type\": \"Point\"}'}]<br><br>\n",
    "    \n",
    "Ecrire un code Python qui commence par instancier cette liste nomm\u00e9e Liste_des_gares,<br>\n",
    "Puis qui r\u00e9alise la <b><u>projection</u></b> par <b><u>compr\u00e9hension</u></b> de l'ensemble des gares de cette liste en ne conservant que les attributs \"Nom\" \u00e0 la place de 'libelle', \"G\u00e8re le fret\" \u00e0 la place de 'fret', et \"Coordonn\u00e9es\" \u00e0 la place de 'c_geo'.<br>\n",
    "Puis votre code affiche cette nouvelle liste nomm\u00e9e Gares_fret :"
   ]
  },
  {
   "cell_type": "code",
   "execution_count": null,
   "id": "6c0c1acc",
   "metadata": {},
   "outputs": [],
   "source": []
  },
  {
   "cell_type": "markdown",
   "id": "d750004d",
   "metadata": {
    "deletable": false,
    "editable": false
   },
   "source": [
    "<div style=\"text-align:center; border:0px ;background-color:DodgerBlue;margin:10px 10px 0px 10px;padding:10px;\">\n",
    "    </div>\n",
    "<div style=\"border:2px solid DarkBlue;margin:0px 10px 10px 10px;padding:10px;\">\n",
    "<h4><u>Exercice 17</u> : </h4><br>\n",
    "Soit 1 liste de dictionnaires ordonn\u00e9s nomm\u00e9e Gare_Champ.<br><br>\n",
    "Gare_Champ = [{'Nom': 'Charleville-M\u00e9zi\u00e8res_D\u00e9p\u00f4t', 'G\u00e8re le fret': 'N', 'Coordonn\u00e9es': '49.76758462699033,4.725202519713612'}, {'Nom': 'Donchery', 'G\u00e8re le fret': 'O', 'Coordonn\u00e9es': '49.6983163493635,4.874829747177437'}, {'Nom': 'Reims', 'G\u00e8re le fret': 'O', 'Coordonn\u00e9es': '49.25946798426691,4.024434919226614'}, {'Nom': 'Revin', 'G\u00e8re le fret': 'O', 'Coordonn\u00e9es': '49.93940438289336,4.642915600499463'}, {'Nom': 'Suippes', 'G\u00e8re le fret': 'O', 'Coordonn\u00e9es': '49.12006402563912,4.543216720152278'}, {'Nom': 'Charleville-M\u00e9zi\u00e8res', 'G\u00e8re le fret': 'O', 'Coordonn\u00e9es': '49.76758462699033,4.725202519713612'}]<br><br>\n",
    "Ecrivez un code qui instancie cette liste.<br>\n",
    "    Puis votre code trie cette liste en fonction, <b>prioritairement</b>, des coordonn\u00e9es g\u00e9ographiques, puis des noms de gares.<br>\n",
    "Enfin votre code pr\u00e9sente la liste tri\u00e9e.\n"
   ]
  },
  {
   "cell_type": "code",
   "execution_count": null,
   "id": "4accd710",
   "metadata": {},
   "outputs": [],
   "source": []
  },
  {
   "cell_type": "markdown",
   "id": "8ce0532a",
   "metadata": {
    "deletable": false,
    "editable": false
   },
   "source": [
    "<div style=\"text-align:center; border:2px solid black; font-size: 1.8em;\">\n",
    "<h1>Notions de tri</h1>\n",
    "    <br>\n",
    "</div>"
   ]
  },
  {
   "cell_type": "markdown",
   "id": "0d9cda0c",
   "metadata": {
    "deletable": false,
    "editable": false
   },
   "source": [
    "<div style=\"text-align:center; border:0px ;background-color:DodgerBlue;margin:10px 10px 0px 10px;padding:10px;\">\n",
    "    </div>\n",
    "<div style=\"border:2px solid DarkBlue;margin:0px 10px 10px 10px;padding:10px;\">\n",
    "<h4><u>Exercice 18</u> : </h4><br>\n",
    "Le script ci-dessous est un tri par insertion ; Compl\u00e9tez les  parties remplac\u00e9es par des #### pour le faire fonctionner correctement dans une cellule de code ci-dessous :<br>\n",
    "    \n",
    "```Python\n",
    "Tab = [2,8,3,5,1]\n",
    "n = len(Tab)\n",
    "for i in range(1, n):\n",
    "    x = ####\n",
    "    j = i\n",
    "    while j>0 and #### > x:\n",
    "        Tab[j] = Tab[j-1]\n",
    "        j = j - 1\n",
    "    Tab[j] = ####\n",
    "print(Tab) \n",
    "```"
   ]
  },
  {
   "cell_type": "code",
   "execution_count": null,
   "id": "0b1d0f70",
   "metadata": {},
   "outputs": [],
   "source": []
  },
  {
   "cell_type": "markdown",
   "id": "6647b4e6",
   "metadata": {
    "deletable": false,
    "editable": false
   },
   "source": [
    "<div style=\"text-align:center; border:0px ;background-color:DodgerBlue;margin:10px 10px 0px 10px;padding:10px;\">\n",
    "    </div>\n",
    "<div style=\"border:2px solid DarkBlue;margin:0px 10px 10px 10px;padding:10px;\">\n",
    "<h4><u>Exercice 19</u> : </h4><br>\n",
    "Le script ci-dessous est un tri par s\u00e9lection ; Compl\u00e9tez les  parties remplac\u00e9es par des #### pour le faire fonctionner correctement dans une cellule de code ci-dessous :<br>\n",
    "    \n",
    "```Python\n",
    "Tab=[20,8,13,5,1]\n",
    "nb = len(Tab)\n",
    "for en_cours in range(0,nb):\n",
    "    plus_petit = en_cours\n",
    "    for j in range(  #### , nb) :\n",
    "        if Tab[j] < Tab[plus_petit] :\n",
    "            plus_petit = ####\n",
    "    if plus_petit != en_cours :\n",
    "        temp = Tab[en_cours]\n",
    "        Tab[en_cours] = Tab[plus_petit]\n",
    "        Tab[plus_petit] = ####\n",
    "print(Tab)\n",
    "```"
   ]
  },
  {
   "cell_type": "code",
   "execution_count": null,
   "id": "d4053c71",
   "metadata": {},
   "outputs": [],
   "source": []
  },
  {
   "cell_type": "markdown",
   "id": "cd8d2f84",
   "metadata": {
    "deletable": false,
    "editable": false
   },
   "source": [
    "<div style=\"text-align:center; border:2px solid black; font-size: 1.8em;\">\n",
    "<h2>Recherche dichotomique dans un tableau tri\u00e9</h2>\n",
    "    <br>\n",
    "</div>"
   ]
  },
  {
   "cell_type": "markdown",
   "id": "7f0d6fa0",
   "metadata": {
    "deletable": false,
    "editable": false
   },
   "source": [
    "<div style=\"text-align:center; border:0px ;background-color:DodgerBlue;margin:10px 10px 0px 10px;padding:10px;\">\n",
    "    </div>\n",
    "<div style=\"border:2px solid DarkBlue;margin:0px 10px 10px 10px;padding:10px;\">\n",
    "<h4><u>Exercice 20</u> : </h4><br>\n",
    "Le script ci-dessous est une fonction \u00e0 compl\u00e9ter permettant une recherche dichotomique : cette fonction contient d\u00e9j\u00e0 des doctests qui vous aideront \u00e0 valider votre code.<br><br>\n",
    "\n",
    "Dans une recherche dichotomique, il nous faudra fixer, \u00e0 chaque \u00e9tape, 3 indices :<br>\n",
    "<ul>\n",
    "    <li>Les bornes gauche et droite du tableau \u00e0 analyser :</li>\n",
    "        <ul>Bg<br>\n",
    "            Bd<br>\n",
    "    </ul>\n",
    "    <li>La position du milieu de notre tableau :</li>\n",
    "        <ul>Mil\n",
    "    </ul>\n",
    "    </ul>\n",
    "<i><b>Comp\u00e9ter la fonction pour qu'elle fonctionne.</b></i>"
   ]
  },
  {
   "cell_type": "code",
   "execution_count": null,
   "id": "7711772c",
   "metadata": {},
   "outputs": [],
   "source": [
    "import doctest\n",
    "def Recherche_dichotomique(Tab, val):\n",
    "    \"\"\" Fonction qui d\u00e9finie si une valeur val est pr\u00e9sente ou non dans un tableau Tab d\u00e9j\u00e0 tri\u00e9.\n",
    "    \n",
    "    Parameters\n",
    "    ----------\n",
    "    Tab : TYPE : list\n",
    "        DESCRIPTION : Le tableau d'entiers est ordonn\u00e9 de fa\u00e7on croissante.\n",
    "        \n",
    "    val : TYPE : int.\n",
    "        DESCRIPTION : valeur recherch\u00e9e dans le tableau.\n",
    "            \n",
    "    >>> Recherche_dichotomique( [ 2, 4, 9, 12, 21 ], 8 )\n",
    "    'La valeur val est absente du tableau.'\n",
    "\n",
    "    >>> Recherche_dichotomique( [ 2, 4, 9, 12, 21 ], 9 )\n",
    "    'La valeur val est dans le tableau : son indice est 2'\n",
    "    \n",
    "    >>> Recherche_dichotomique( [ 7 ], 8 )\n",
    "    'La valeur val est absente du tableau.'\n",
    "    \n",
    "    >>> Recherche_dichotomique( [  ], 8 )\n",
    "    'La valeur val est absente du tableau.'\n",
    "    \n",
    "    \"\"\"\n",
    "\n",
    "    # Votre code ici\n",
    "\n",
    "########\n",
    "doctest.testmod()"
   ]
  },
  {
   "cell_type": "code",
   "execution_count": null,
   "id": "cad199c7",
   "metadata": {},
   "outputs": [],
   "source": []
  },
  {
   "cell_type": "markdown",
   "id": "467d5381",
   "metadata": {
    "deletable": false,
    "editable": false
   },
   "source": [
    "<div style=\"text-align:center; border:2px solid black; font-size: 1.8em;\">\n",
    "<h2>Algorithme glouton</h2>\n",
    "    <br>\n",
    "</div>"
   ]
  },
  {
   "cell_type": "markdown",
   "id": "dd64a3e2",
   "metadata": {
    "deletable": false,
    "editable": false
   },
   "source": [
    "<div style=\"text-align:center; border:0px ;background-color:DodgerBlue;margin:10px 10px 0px 10px;padding:10px;\">\n",
    "    </div>\n",
    "<div style=\"border:2px solid DarkBlue;margin:0px 10px 10px 10px;padding:10px;\">\n",
    "<h4><u>Exercice 21</u> : </h4><br>\n",
    "<ul>\n",
    "    <li>Expliquez \u00e0 quoi sert un algorithme glouton, <b>et</b> ce qu'il fait dans un cas g\u00e9n\u00e9ral : </li>\n",
    "    </ul>"
   ]
  },
  {
   "cell_type": "code",
   "execution_count": null,
   "id": "e4e1735b",
   "metadata": {},
   "outputs": [],
   "source": []
  },
  {
   "cell_type": "markdown",
   "id": "c74a533f",
   "metadata": {
    "deletable": false,
    "editable": false
   },
   "source": [
    "<div style=\"text-align:center; border:0px ;background-color:DodgerBlue;margin:10px 10px 0px 10px;padding:10px;\">\n",
    "    </div>\n",
    "<div style=\"border:2px solid DarkBlue;margin:0px 10px 10px 10px;padding:10px;\">\n",
    "<h4><u>Exercice 22</u> : </h4><br>\n",
    "<ul>\n",
    "    <li>Expliquez, avec des mots, ce que fait pr\u00e9cis\u00e9ment l'algorithme glouton dans le cas du rendu de monnaie :</li>\n",
    "    </ul>"
   ]
  },
  {
   "cell_type": "code",
   "execution_count": null,
   "id": "8a18d1d9",
   "metadata": {},
   "outputs": [],
   "source": []
  },
  {
   "cell_type": "markdown",
   "id": "acd02782",
   "metadata": {
    "deletable": false,
    "editable": false
   },
   "source": [
    "<div style=\"text-align:center; border:0px ;background-color:DodgerBlue;margin:10px 10px 0px 10px;padding:10px;\">\n",
    "    </div>\n",
    "<div style=\"border:2px solid DarkBlue;margin:0px 10px 10px 10px;padding:10px;\">\n",
    "<h4><u>Exercice 23</u> : </h4><br>\n",
    "Dans le script ci-dessous, on cr\u00e9e une liste de 6 chiffres au hazard (compris entre 0 et 9).<br>\n",
    "Puis, le script renvoie le nombre le plus petit possible avec ces 6 chiffres.<br><br>\n",
    "<u>Exemple</u> :<br>\n",
    "Liste =  [8, 4, 2, 4, 1, 9]<br>\n",
    "Nombre = 124489<br>\n",
    "<ol>\n",
    "    <li>Compl\u00e9tez le script pour qu'il fonctionne.</li>\n",
    "    <li>Expliquez quelle est l'\u00e9tape r\u00e9p\u00e9t\u00e9e dans ce script glouton.</li>\n",
    "    </ol>\n"
   ]
  },
  {
   "cell_type": "code",
   "execution_count": null,
   "id": "96594a15",
   "metadata": {},
   "outputs": [],
   "source": [
    "import random\n",
    "Liste = [ random.randint(0, 9)  for y in range(6)]\n",
    "#### Ecrire votre code ici :\n",
    "print(\"Liste = \",Liste)\n",
    "Nombre = \"\"\n",
    "Index_chiffre_plus_petit = 0\n",
    "chiffre_plus_petit_restant = Liste[Index_chiffre_plus_petit]\n",
    "for b in range(5):\n",
    "    for a in range(len(Liste)):\n",
    "        if Liste[a] < ####:\n",
    "            chiffre_plus_petit_restant = ####\n",
    "            Index_chiffre_plus_petit = a\n",
    "    Nombre = Nombre + str(chiffre_plus_petit_restant)\n",
    "    Liste.remove(####)\n",
    "    Index_chiffre_plus_petit = 0\n",
    "    chiffre_plus_petit_restant = Liste[Index_chiffre_plus_petit]\n",
    "Nombre = Nombre + str(Liste[0])\n",
    "print(\"Nombre =\",Nombre) "
   ]
  },
  {
   "cell_type": "markdown",
   "id": "25b22c69",
   "metadata": {
    "deletable": false,
    "editable": false
   },
   "source": [
    "<div style=\"text-align:center; border:2px solid black; font-size: 1.8em;\">\n",
    "<h2>Architecture mat\u00e9rielle</h2>\n",
    "    <br>\n",
    "</div>"
   ]
  },
  {
   "cell_type": "markdown",
   "id": "5adcbc16",
   "metadata": {
    "deletable": false,
    "editable": false
   },
   "source": [
    "<div style=\"text-align:center; border:0px ;background-color:DodgerBlue;margin:10px 10px 0px 10px;padding:10px;\">\n",
    "    </div>\n",
    "<div style=\"border:2px solid DarkBlue;margin:0px 10px 10px 10px;padding:10px;\">\n",
    "<h4><u>Exercice 24</u> : </h4><br>\n",
    "Allo Houston..? Que fait ce programme en assembleur ?<br><br>\n",
    "\n",
    "&nbsp;&nbsp;&nbsp;&nbsp;&nbsp;&nbsp;MOV R1, #10<br>\n",
    "ici:<br>\n",
    "&nbsp;&nbsp;&nbsp;&nbsp;&nbsp;&nbsp;OUT R1,4<br>\n",
    "&nbsp;&nbsp;&nbsp;&nbsp;&nbsp;&nbsp;CMP R1, #4<br>\n",
    "&nbsp;&nbsp;&nbsp;&nbsp;&nbsp;&nbsp;BEQ la<br>\n",
    "&nbsp;&nbsp;&nbsp;&nbsp;&nbsp;&nbsp;SUB R1, R1, #2<br>\n",
    "&nbsp;&nbsp;&nbsp;&nbsp;&nbsp;&nbsp;B ici<br>\n",
    "la:<br>\n",
    "&nbsp;&nbsp;&nbsp;&nbsp;&nbsp;&nbsp;HALT<br>\n"
   ]
  },
  {
   "cell_type": "code",
   "execution_count": null,
   "id": "3215015c",
   "metadata": {},
   "outputs": [],
   "source": []
  }
 ],
 "metadata": {
  "kernelspec": {
   "display_name": "Python 3 (ipykernel)",
   "language": "python",
   "name": "python3"
  },
  "language_info": {
   "codemirror_mode": {
    "name": "ipython",
    "version": 3
   },
   "file_extension": ".py",
   "mimetype": "text/x-python",
   "name": "python",
   "nbconvert_exporter": "python",
   "pygments_lexer": "ipython3",
   "version": "3.9.13"
  }
 },
 "nbformat": 4,
 "nbformat_minor": 5
}