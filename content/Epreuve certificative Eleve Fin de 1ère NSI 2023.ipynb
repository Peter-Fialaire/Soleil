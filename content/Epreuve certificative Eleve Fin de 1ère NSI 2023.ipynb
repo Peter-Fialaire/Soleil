{
 "cells": [
  {
   "cell_type": "markdown",
   "id": "05e3ad67",
   "metadata": {
    "deletable": false,
    "editable": false
   },
   "source": [
    "<div style=\"text-align:center; border:2px solid black; font-size: 1.8em;\">\n",
    "<h1>EPREUVE CERTIFICATIVE</h1>\n",
    "<h1>1ère NSI _ 2023</h1>\n",
    "    <br>\n",
    "</div>"
   ]
  },
  {
   "cell_type": "code",
   "execution_count": null,
   "id": "b5cd1143",
   "metadata": {},
   "outputs": [],
   "source": [
    "Nom :\n",
    "Prénom : "
   ]
  },
  {
   "cell_type": "markdown",
   "id": "f1697e38",
   "metadata": {
    "deletable": false,
    "editable": false
   },
   "source": [
    "<div style=\"text-align:center; border:2px solid black; font-size: 1.8em;\">\n",
    "<h1>Algorithmique</h1>\n",
    "    <br>\n",
    "</div>"
   ]
  },
  {
   "cell_type": "markdown",
   "id": "87b46d3c",
   "metadata": {
    "deletable": false,
    "editable": false
   },
   "source": [
    "<div style=\"text-align:center; border:0px ;background-color:DodgerBlue;margin:10px 10px 0px 10px;padding:10px;\">\n",
    "    </div>\n",
    "<div style=\"border:2px solid DarkBlue;margin:0px 10px 10px 10px;padding:10px;\">\n",
    "<h4><u>Exercice 1</u> : </h4><br>\n",
    "Ecrire un script Python qui demande un nombre entier à l'utilisateur, puis qui teste puis affiche si ce nombre (<u>ce nombre doit s'afficher dans la réponse</u>) est divisible par 5 ou non.<br><br>\n",
    "<u>Exemple</u> : <br><br>\n",
    "Donnez un nombre : 26<br>\n",
    "Le nombre 26 n'est pas divisible par 5."
   ]
  },
  {
   "cell_type": "code",
   "execution_count": null,
   "id": "4a1b1143",
   "metadata": {},
   "outputs": [],
   "source": []
  },
  {
   "cell_type": "markdown",
   "id": "ff9c82ae",
   "metadata": {
    "deletable": false,
    "editable": false
   },
   "source": [
    "<div style=\"text-align:center; border:0px ;background-color:DodgerBlue;margin:10px 10px 0px 10px;padding:10px;\">\n",
    "    </div>\n",
    "<div style=\"border:2px solid DarkBlue;margin:0px 10px 10px 10px;padding:10px;\">\n",
    "<h4><u>Exercice 2</u> : </h4><br>\n",
    "Ecrire un script Python qui demande un nombre entier à l'utilisateur, puis qui teste et affiche s'il est divisible par 5\n",
    "    <b><u>ou</u></b> par 3 <b><u>en utilisant un opérateur booléen</u></b> :<br><br>\n",
    "<u>Exemple</u> : <br><br>\n",
    "Donnez un nombre :21<br>\n",
    "Le nombre 21 est divisible par 5 ou par 3."
   ]
  },
  {
   "cell_type": "code",
   "execution_count": null,
   "id": "f0e4cdf2",
   "metadata": {},
   "outputs": [],
   "source": []
  },
  {
   "cell_type": "markdown",
   "id": "02c8b09f",
   "metadata": {
    "deletable": false,
    "editable": false
   },
   "source": [
    "<div style=\"text-align:center; border:0px ;background-color:DodgerBlue;margin:10px 10px 0px 10px;padding:10px;\">\n",
    "    </div>\n",
    "<div style=\"border:2px solid DarkBlue;margin:0px 10px 10px 10px;padding:10px;\">\n",
    "<h4><u>Exercice 3</u> : </h4><br>\n",
    "Ecrire un script Python qui affiche, les uns après les autres, certains mois de l'année (démarrant de Mars jusqu'à Juillet inclu) <b><u>en utilisant une liste et une boucle itérative</u></b> :"
   ]
  },
  {
   "cell_type": "code",
   "execution_count": null,
   "id": "7fcaa68d",
   "metadata": {},
   "outputs": [],
   "source": []
  },
  {
   "cell_type": "markdown",
   "id": "52152b29",
   "metadata": {
    "deletable": false,
    "editable": false
   },
   "source": [
    "<div style=\"text-align:center; border:0px ;background-color:DodgerBlue;margin:10px 10px 0px 10px;padding:10px;\">\n",
    "    </div>\n",
    "<div style=\"border:2px solid DarkBlue;margin:0px 10px 10px 10px;padding:10px;\">\n",
    "<h4><u>Exercice 4</u> : </h4><br>\n",
    "    Ecrire un script Python qui demande un mot à l'utilisateur ; Puis, <b><u>Tant que</u></b> ce mot n'est pas stop , alors vous affichez les 2 premières lettres de ce mot, puis vous lui demandez à nouveau un mot... ainsi de suite.<br><br>\n",
    "<u>exemple</u> :<br><br>\n",
    "Ecrire un mot : c<br>\n",
    "c<br>\n",
    "Ecrire un mot : coucou<br>\n",
    "co<br>\n",
    "Ecrire un mot : hello<br>\n",
    "he<br>\n",
    "Ecrire un mot : stop<br>"
   ]
  },
  {
   "cell_type": "code",
   "execution_count": null,
   "id": "2ac07353",
   "metadata": {},
   "outputs": [],
   "source": []
  },
  {
   "cell_type": "markdown",
   "id": "a4336219",
   "metadata": {
    "deletable": false,
    "editable": false
   },
   "source": [
    "<div style=\"text-align:center; border:2px solid black; font-size: 1.8em;\">\n",
    "<h1>Représentation des données</h1>\n",
    "    <br>\n",
    "</div>"
   ]
  },
  {
   "cell_type": "markdown",
   "id": "bcdfa1df",
   "metadata": {
    "deletable": false,
    "editable": false
   },
   "source": [
    "<div style=\"text-align:center; border:0px ;background-color:DodgerBlue;margin:10px 10px 0px 10px;padding:10px;\">\n",
    "    </div>\n",
    "<div style=\"border:2px solid DarkBlue;margin:0px 10px 10px 10px;padding:10px;\">\n",
    "<h4><u>Exercice 5</u> : </h4><br>\n",
    "Expliquer comment, mathématiquement, on obtiens la représentation binaire d'un nombre décimal : Prenez pour exemple le nombre décimal 9."
   ]
  },
  {
   "cell_type": "code",
   "execution_count": null,
   "id": "79578f29",
   "metadata": {},
   "outputs": [],
   "source": []
  },
  {
   "cell_type": "markdown",
   "id": "d45addae",
   "metadata": {
    "deletable": false,
    "editable": false
   },
   "source": [
    "<div style=\"text-align:center; border:0px ;background-color:DodgerBlue;margin:10px 10px 0px 10px;padding:10px;\">\n",
    "    </div>\n",
    "<div style=\"border:2px solid DarkBlue;margin:0px 10px 10px 10px;padding:10px;\">\n",
    "<h4><u>Exercice 6</u> : </h4><br>\n",
    "Expliquer comment, mathématiquement, on obtiens un nombre décimal à partir de sa représentation binaire : Prenez pour exemple le nombre binaire 1010."
   ]
  },
  {
   "cell_type": "code",
   "execution_count": null,
   "id": "7987559e",
   "metadata": {},
   "outputs": [],
   "source": []
  },
  {
   "cell_type": "markdown",
   "id": "a2c2cb9a",
   "metadata": {
    "deletable": false,
    "editable": false
   },
   "source": [
    "<div style=\"text-align:center; border:0px ;background-color:DodgerBlue;margin:10px 10px 0px 10px;padding:10px;\">\n",
    "    </div>\n",
    "<div style=\"border:2px solid DarkBlue;margin:0px 10px 10px 10px;padding:10px;\">\n",
    "<h4><u>Exercice 7</u> : </h4><br>\n",
    "Donnez la règle de base de l'addition de 2 nombres binaires en donnant les résultats de 0+0, puis de 1+0 et enfin de 1+1."
   ]
  },
  {
   "cell_type": "code",
   "execution_count": null,
   "id": "6a778428",
   "metadata": {},
   "outputs": [],
   "source": []
  },
  {
   "cell_type": "markdown",
   "id": "9f38d9f6",
   "metadata": {
    "deletable": false,
    "editable": false
   },
   "source": [
    "<div style=\"text-align:center; border:0px ;background-color:DodgerBlue;margin:10px 10px 0px 10px;padding:10px;\">\n",
    "    </div>\n",
    "<div style=\"border:2px solid DarkBlue;margin:0px 10px 10px 10px;padding:10px;\">\n",
    "<h4><u>Exercice 8</u> : </h4><br>\n",
    "Détaillez, en français, comment se déroule la soustraction de 2 nombres binaires : vous prendrez comme exemple la soustraction sous 8 bits de :<br> 110 - 10."
   ]
  },
  {
   "cell_type": "code",
   "execution_count": null,
   "id": "2606519e",
   "metadata": {},
   "outputs": [],
   "source": []
  },
  {
   "cell_type": "markdown",
   "id": "3e13fb6f",
   "metadata": {
    "deletable": false,
    "editable": false
   },
   "source": [
    "<div style=\"text-align:center; border:2px solid black; font-size: 1.8em;\">\n",
    "<h1>Types construits</h1>\n",
    "    <br>\n",
    "</div>"
   ]
  },
  {
   "cell_type": "markdown",
   "id": "91ad0c25",
   "metadata": {
    "deletable": false,
    "editable": false
   },
   "source": [
    "<div style=\"text-align:center; border:0px ;background-color:DodgerBlue;margin:10px 10px 0px 10px;padding:10px;\">\n",
    "    </div>\n",
    "<div style=\"border:2px solid DarkBlue;margin:0px 10px 10px 10px;padding:10px;\">\n",
    "<h4><u>Exercice 9</u> : </h4><br>\n",
    "Ecrire un code python qui instancie une liste de 5 prénoms, puis qui les affiche dans l'ordre inverse de leur position dans la liste, <u>à l'aide d'une boucle</u> :"
   ]
  },
  {
   "cell_type": "code",
   "execution_count": null,
   "id": "930481cf",
   "metadata": {},
   "outputs": [],
   "source": []
  },
  {
   "cell_type": "markdown",
   "id": "c3718db3",
   "metadata": {
    "deletable": false,
    "editable": false
   },
   "source": [
    "<div style=\"text-align:center; border:0px ;background-color:DodgerBlue;margin:10px 10px 0px 10px;padding:10px;\">\n",
    "    </div>\n",
    "<div style=\"border:2px solid DarkBlue;margin:0px 10px 10px 10px;padding:10px;\">\n",
    "<h4><u>Exercice 10</u> : </h4><br>\n",
    "    Ecrire un code python qui instancie, <b><u> par compréhension </u></b> une liste des multiples de 7 compris entre 1 et 71, puis l'afficher :"
   ]
  },
  {
   "cell_type": "code",
   "execution_count": null,
   "id": "fb3c09a2",
   "metadata": {},
   "outputs": [],
   "source": []
  },
  {
   "cell_type": "markdown",
   "id": "764d1ed4",
   "metadata": {
    "deletable": false,
    "editable": false
   },
   "source": [
    "<div style=\"text-align:center; border:0px ;background-color:DodgerBlue;margin:10px 10px 0px 10px;padding:10px;\">\n",
    "    </div>\n",
    "<div style=\"border:2px solid DarkBlue;margin:0px 10px 10px 10px;padding:10px;\">\n",
    "<h4><u>Exercice 11</u> : </h4><br>\n",
    "Soit 2 listes : A = [1, 3, 5, 7, 9 ] et B = [2, 4, 6, 8, 10]  <br>\n",
    "Ecrire un code Python qui instancie directement les listes A et B ; puis qui crée une liste C <u>à partir des listes A et B</u> telle que C contienne d'abord les éléments de A puis ceux de B ;<br>\n",
    "Puis votre code <u>ajoute</u> l'élémént 11 à la liste C. <br>\n",
    "Enfin, votre code transforme votre liste C pour que tous ses éléments soient dans l'ordre décroissant.\n",
    "Le résultat est alors affiché."
   ]
  },
  {
   "cell_type": "code",
   "execution_count": null,
   "id": "4a544d5f",
   "metadata": {},
   "outputs": [],
   "source": []
  },
  {
   "cell_type": "markdown",
   "id": "13aa3f42",
   "metadata": {
    "deletable": false,
    "editable": false
   },
   "source": [
    "<div style=\"text-align:center; border:0px ;background-color:DodgerBlue;margin:10px 10px 0px 10px;padding:10px;\">\n",
    "    </div>\n",
    "<div style=\"border:2px solid DarkBlue;margin:0px 10px 10px 10px;padding:10px;\">\n",
    "<h4><u>Exercice 12</u> : </h4><br>\n",
    "Ecrire un code Python qui instancie directement un dictionnaire nommé Frigo et qui contient pour clés : 2 aliments, et pour valeurs : le nombre de ces aliments. <br>\n",
    "Puis votre code affiche ce dictionnaire.<br>\n",
    "Puis votre code demande à l'utilisateur de rentrer un autre aliment, puis son nombre pour les rentrer dans le dictionnaire Frigo.<br> \n",
    "    Puis votre code, <b>à l'aide d'une boucle</b> affiche l'inventaire ce dictionnaire."
   ]
  },
  {
   "cell_type": "code",
   "execution_count": null,
   "id": "200b29b3",
   "metadata": {},
   "outputs": [],
   "source": []
  },
  {
   "cell_type": "markdown",
   "id": "4ad53ee3",
   "metadata": {
    "deletable": false,
    "editable": false
   },
   "source": [
    "<div style=\"text-align:center; border:0px ;background-color:DodgerBlue;margin:10px 10px 0px 10px;padding:10px;\">\n",
    "    </div>\n",
    "<div style=\"border:2px solid DarkBlue;margin:0px 10px 10px 10px;padding:10px;\">\n",
    "<h4><u>Exercice 13</u> : </h4><br>\n",
    "Soit 2 listes : A et B de 4 mots : la première en français et la seconde : la traduction de ces 4 mots.<br>\n",
    "Ecrire un code Python qui instancie directement les listes A et B ; puis qui crée <b><u>par compréhension</u></b> un dictionnaire nomé Dico où la clé est l'élément de A et la valeur est l'élément de B correspondant.<br> \n",
    "Puis votre code affiche ce dictionnaire."
   ]
  },
  {
   "cell_type": "code",
   "execution_count": null,
   "id": "9e8cf149",
   "metadata": {},
   "outputs": [],
   "source": []
  },
  {
   "cell_type": "markdown",
   "id": "e74281ca",
   "metadata": {
    "deletable": false,
    "editable": false
   },
   "source": [
    "<div style=\"text-align:center; border:2px solid black; font-size: 1.8em;\">\n",
    "<h1>Traitement de données en table</h1>\n",
    "    <br>\n",
    "</div>"
   ]
  },
  {
   "cell_type": "markdown",
   "id": "c8773865",
   "metadata": {
    "deletable": false,
    "editable": false
   },
   "source": [
    "<div style=\"text-align:center; border:0px ;background-color:DodgerBlue;margin:10px 10px 0px 10px;padding:10px;\">\n",
    "    </div>\n",
    "<div style=\"border:2px solid DarkBlue;margin:0px 10px 10px 10px;padding:10px;\">\n",
    "<h4><u>Exercice 14</u> : </h4><br>\n",
    "Soit 1 fichier CSV nommé 'liste-des-gares.csv' (ce fichier est accessible)<br>\n",
    "Ecrire un code Python qui instancie la création d'une liste de dictionnaires ordonnés (La liste sera nommée : Gares) à partir de ce fichier CSV.<br>\n",
    "Puis votre code présente le 1er et le dernier élément de cette liste de gares."
   ]
  },
  {
   "cell_type": "code",
   "execution_count": null,
   "id": "d09af9fc",
   "metadata": {},
   "outputs": [],
   "source": []
  },
  {
   "cell_type": "markdown",
   "id": "188d7e84",
   "metadata": {
    "deletable": false,
    "editable": false
   },
   "source": [
    "<div style=\"text-align:center; border:0px ;background-color:DodgerBlue;margin:10px 10px 0px 10px;padding:10px;\">\n",
    "    </div>\n",
    "<div style=\"border:2px solid DarkBlue;margin:0px 10px 10px 10px;padding:10px;\">\n",
    "<h4><u>Exercice 15</u> : </h4><br>\n",
    "    Soit 1 liste (<b>ci-dessous</b>) de dictionnaires ordonnés, obtenue à partir d'un fichier CSV correspondant à des gares :<br><br>\n",
    "\n",
    "Liste_des_gares = [{'code_uic': '87172239', 'libelle': 'Donchery', 'fret': 'O', 'voyageurs': 'O', 'code_ligne': '204000', 'rg_troncon': '2', 'pk': '154+063', 'commune': 'DONCHERY', 'departemen': 'ARDENNES', 'idreseau': '3985', 'idgaia': 'd97a7a40-6667-11e3-89ff-01f464e0362d', 'x_l93': '835327.3869000003', 'y_l93': '6957080.5945999995', 'x_wgs84': '4.874829747177437', 'y_wgs84': '49.6983163493635', 'c_geo': '49.6983163493635,4.874829747177437', 'geo_point_2d': '49.69831634841525,4.874829747177438', 'geo_shape': '{\"coordinates\": [4.874829747177438, 49.69831634841525], \"type\": \"Point\"}'}, {'code_uic': '87171009', 'libelle': 'Reims', 'fret': 'O', 'voyageurs': 'O', 'code_ligne': '205000', 'rg_troncon': '1', 'pk': '054+814', 'commune': 'REIMS', 'departemen': 'MARNE', 'idreseau': '6220', 'idgaia': 'e1bc0014-19bf-11e5-a6ff-01fc64e0362d', 'x_l93': '774583.2399000004', 'y_l93': '6907129.5297', 'x_wgs84': '4.024434919226614', 'y_wgs84': '49.25946798426691', 'c_geo': '49.25946798426691,4.024434919226614', 'geo_point_2d': '49.25946798331426,4.024434919226613', 'geo_shape': '{\"coordinates\": [4.024434919226613, 49.25946798331426], \"type\": \"Point\"}'}, {'code_uic': '87172080', 'libelle': 'Revin', 'fret': 'O', 'voyageurs': 'O', 'code_ligne': '205000', 'rg_troncon': '1', 'pk': '175+403', 'commune': 'REVIN', 'departemen': 'ARDENNES', 'idreseau': '6243', 'idgaia': '29a3c700-dfbc-11e3-a2ff-01a464e0362d', 'x_l93': '818031.8439999968', 'y_l93': '6983536.927700002', 'x_wgs84': '4.642915600499463', 'y_wgs84': '49.93940438289336', 'c_geo': '49.93940438289336,4.642915600499463', 'geo_point_2d': '49.93940438194757,4.642915600499462', 'geo_shape': '{\"coordinates\": [4.642915600499462, 49.93940438194757], \"type\": \"Point\"}'}, {'code_uic': '87174821', 'libelle': 'Suippes', 'fret': 'O', 'voyageurs': 'N', 'code_ligne': '085000', 'rg_troncon': '1', 'pk': '202+219', 'commune': 'SUIPPES', 'departemen': 'MARNE', 'idreseau': '6907', 'idgaia': '298d874e-dfbc-11e3-a2ff-01a464e0362d', 'x_l93': '812651.7955000028', 'y_l93': '6892240.608199999', 'x_wgs84': '4.543216720152278', 'y_wgs84': '49.12006402563912', 'c_geo': '49.12006402563912,4.543216720152278', 'geo_point_2d': '49.12006402468511,4.543216720152278', 'geo_shape': '{\"coordinates\": [4.543216720152278, 49.12006402468511], \"type\": \"Point\"}'}, {'code_uic': '87172007', 'libelle': 'Charleville-Mézières', 'fret': 'O', 'voyageurs': 'O', 'code_ligne': '223000', 'rg_troncon': '1', 'pk': '142+488', 'commune': 'CHARLEVILLE-MEZIERES', 'departemen': 'ARDENNES', 'idreseau': '3621', 'idgaia': 'd970a13e-6667-11e3-89ff-01f464e0362d', 'x_l93': '824360.4904000014', 'y_l93': '6964541.866300002', 'x_wgs84': '4.725202519713612', 'y_wgs84': '49.76758462699033', 'c_geo': '49.76758462699033,4.725202519713612', 'geo_point_2d': '49.767584626042776,4.725202519713612', 'geo_shape': '{\"coordinates\": [4.725202519713612, 49.767584626042776], \"type\": \"Point\"}'}]<br><br>\n",
    "    \n",
    "Ecrire un code Python qui commence par instancier cette liste, puis qui réalise la <b><u>séléction</u></b> par <b><u>compréhension</u></b> des gares situées dans le département de la Marne (cette sélection sera une liste de dictionnaires ordonnés nommée Gares_Dep_51).<br>\n",
    "Puis votre code affiche cette nouvelle liste Gares_Dep_51 :"
   ]
  },
  {
   "cell_type": "code",
   "execution_count": null,
   "id": "40449f10",
   "metadata": {},
   "outputs": [],
   "source": []
  },
  {
   "cell_type": "markdown",
   "id": "62c2e6e6",
   "metadata": {
    "deletable": false,
    "editable": false
   },
   "source": [
    "<div style=\"text-align:center; border:0px ;background-color:DodgerBlue;margin:10px 10px 0px 10px;padding:10px;\">\n",
    "    </div>\n",
    "<div style=\"border:2px solid DarkBlue;margin:0px 10px 10px 10px;padding:10px;\">\n",
    "<h4><u>Exercice 16</u> : </h4><br>\n",
    "Soit 1 liste (<b>ci-dessous</b>) de dictionnaires ordonnés, obtenue à partir d'un fichier CSV correspondant à des gares :<br><br>\n",
    "\n",
    "Liste_des_gares = [{'code_uic': '87172239', 'libelle': 'Donchery', 'fret': 'O', 'voyageurs': 'O', 'code_ligne': '204000', 'rg_troncon': '2', 'pk': '154+063', 'commune': 'DONCHERY', 'departemen': 'ARDENNES', 'idreseau': '3985', 'idgaia': 'd97a7a40-6667-11e3-89ff-01f464e0362d', 'x_l93': '835327.3869000003', 'y_l93': '6957080.5945999995', 'x_wgs84': '4.874829747177437', 'y_wgs84': '49.6983163493635', 'c_geo': '49.6983163493635,4.874829747177437', 'geo_point_2d': '49.69831634841525,4.874829747177438', 'geo_shape': '{\"coordinates\": [4.874829747177438, 49.69831634841525], \"type\": \"Point\"}'}, {'code_uic': '87171009', 'libelle': 'Reims', 'fret': 'O', 'voyageurs': 'O', 'code_ligne': '205000', 'rg_troncon': '1', 'pk': '054+814', 'commune': 'REIMS', 'departemen': 'MARNE', 'idreseau': '6220', 'idgaia': 'e1bc0014-19bf-11e5-a6ff-01fc64e0362d', 'x_l93': '774583.2399000004', 'y_l93': '6907129.5297', 'x_wgs84': '4.024434919226614', 'y_wgs84': '49.25946798426691', 'c_geo': '49.25946798426691,4.024434919226614', 'geo_point_2d': '49.25946798331426,4.024434919226613', 'geo_shape': '{\"coordinates\": [4.024434919226613, 49.25946798331426], \"type\": \"Point\"}'}, {'code_uic': '87172080', 'libelle': 'Revin', 'fret': 'O', 'voyageurs': 'O', 'code_ligne': '205000', 'rg_troncon': '1', 'pk': '175+403', 'commune': 'REVIN', 'departemen': 'ARDENNES', 'idreseau': '6243', 'idgaia': '29a3c700-dfbc-11e3-a2ff-01a464e0362d', 'x_l93': '818031.8439999968', 'y_l93': '6983536.927700002', 'x_wgs84': '4.642915600499463', 'y_wgs84': '49.93940438289336', 'c_geo': '49.93940438289336,4.642915600499463', 'geo_point_2d': '49.93940438194757,4.642915600499462', 'geo_shape': '{\"coordinates\": [4.642915600499462, 49.93940438194757], \"type\": \"Point\"}'}, {'code_uic': '87174821', 'libelle': 'Suippes', 'fret': 'O', 'voyageurs': 'N', 'code_ligne': '085000', 'rg_troncon': '1', 'pk': '202+219', 'commune': 'SUIPPES', 'departemen': 'MARNE', 'idreseau': '6907', 'idgaia': '298d874e-dfbc-11e3-a2ff-01a464e0362d', 'x_l93': '812651.7955000028', 'y_l93': '6892240.608199999', 'x_wgs84': '4.543216720152278', 'y_wgs84': '49.12006402563912', 'c_geo': '49.12006402563912,4.543216720152278', 'geo_point_2d': '49.12006402468511,4.543216720152278', 'geo_shape': '{\"coordinates\": [4.543216720152278, 49.12006402468511], \"type\": \"Point\"}'}, {'code_uic': '87172007', 'libelle': 'Charleville-Mézières', 'fret': 'O', 'voyageurs': 'O', 'code_ligne': '223000', 'rg_troncon': '1', 'pk': '142+488', 'commune': 'CHARLEVILLE-MEZIERES', 'departemen': 'ARDENNES', 'idreseau': '3621', 'idgaia': 'd970a13e-6667-11e3-89ff-01f464e0362d', 'x_l93': '824360.4904000014', 'y_l93': '6964541.866300002', 'x_wgs84': '4.725202519713612', 'y_wgs84': '49.76758462699033', 'c_geo': '49.76758462699033,4.725202519713612', 'geo_point_2d': '49.767584626042776,4.725202519713612', 'geo_shape': '{\"coordinates\": [4.725202519713612, 49.767584626042776], \"type\": \"Point\"}'}]<br><br>\n",
    "    \n",
    "Ecrire un code Python qui commence par instancier cette liste nommée Liste_des_gares,<br>\n",
    "Puis qui réalise la <b><u>projection</u></b> par <b><u>compréhension</u></b> de l'ensemble des gares de cette liste en ne conservant que les attributs \"Nom\" à la place de 'libelle', \"Gère le fret\" à la place de 'fret', et \"Coordonnées\" à la place de 'c_geo'.<br>\n",
    "Puis votre code affiche cette nouvelle liste nommée Gares_fret :"
   ]
  },
  {
   "cell_type": "code",
   "execution_count": null,
   "id": "417c3cab",
   "metadata": {},
   "outputs": [],
   "source": []
  },
  {
   "cell_type": "markdown",
   "id": "d750004d",
   "metadata": {
    "deletable": false,
    "editable": false
   },
   "source": [
    "<div style=\"text-align:center; border:0px ;background-color:DodgerBlue;margin:10px 10px 0px 10px;padding:10px;\">\n",
    "    </div>\n",
    "<div style=\"border:2px solid DarkBlue;margin:0px 10px 10px 10px;padding:10px;\">\n",
    "<h4><u>Exercice 17</u> : </h4><br>\n",
    "Soit 1 liste (<b>ci-dessous</b>) de dictionnaires ordonnés nommée Gare_Champ.<br><br>\n",
    "Gare_Champ = [{'Nom': 'Charleville-Mézières_Dépôt', 'Gère le fret': 'N', 'Coordonnées': '49.76758462699033,4.725202519713612'}, {'Nom': 'Donchery', 'Gère le fret': 'O', 'Coordonnées': '49.6983163493635,4.874829747177437'}, {'Nom': 'Reims', 'Gère le fret': 'O', 'Coordonnées': '49.25946798426691,4.024434919226614'}, {'Nom': 'Revin', 'Gère le fret': 'O', 'Coordonnées': '49.93940438289336,4.642915600499463'}, {'Nom': 'Suippes', 'Gère le fret': 'O', 'Coordonnées': '49.12006402563912,4.543216720152278'}, {'Nom': 'Charleville-Mézières', 'Gère le fret': 'O', 'Coordonnées': '49.76758462699033,4.725202519713612'}]<br><br>\n",
    "Ecrivez un code qui instancie cette liste.<br>\n",
    "    Puis votre code trie cette liste en fonction, <b>prioritairement</b>, des coordonnées géographiques, puis des noms de gares.<br>\n",
    "Enfin votre code présente la liste triée.\n"
   ]
  },
  {
   "cell_type": "code",
   "execution_count": null,
   "id": "1db533ac",
   "metadata": {},
   "outputs": [],
   "source": []
  },
  {
   "cell_type": "markdown",
   "id": "8ce0532a",
   "metadata": {
    "deletable": false,
    "editable": false
   },
   "source": [
    "<div style=\"text-align:center; border:2px solid black; font-size: 1.8em;\">\n",
    "<h1>Notions de tri</h1>\n",
    "    <br>\n",
    "</div>"
   ]
  },
  {
   "cell_type": "markdown",
   "id": "0d9cda0c",
   "metadata": {
    "deletable": false,
    "editable": false
   },
   "source": [
    "<div style=\"text-align:center; border:0px ;background-color:DodgerBlue;margin:10px 10px 0px 10px;padding:10px;\">\n",
    "    </div>\n",
    "<div style=\"border:2px solid DarkBlue;margin:0px 10px 10px 10px;padding:10px;\">\n",
    "<h4><u>Exercice 18</u> : </h4><br>\n",
    "Le script ci-dessous est un tri par insertion ; Complétez les  parties remplacées par des #### pour le faire fonctionner correctement <b>dans une cellule de code ci-dessous</b> :<br>\n",
    "    \n",
    "```Python\n",
    "Tab = [2,8,3,5,1]\n",
    "n = len(Tab)\n",
    "for i in range(1, n):\n",
    "    x = ####\n",
    "    j = i\n",
    "    while j>0 and #### > x:\n",
    "        Tab[j] = Tab[j-1]\n",
    "        j = j - 1\n",
    "    Tab[j] = ####\n",
    "print(Tab) \n",
    "```"
   ]
  },
  {
   "cell_type": "code",
   "execution_count": null,
   "id": "bb27f262",
   "metadata": {},
   "outputs": [],
   "source": []
  },
  {
   "cell_type": "markdown",
   "id": "6647b4e6",
   "metadata": {
    "deletable": false,
    "editable": false
   },
   "source": [
    "<div style=\"text-align:center; border:0px ;background-color:DodgerBlue;margin:10px 10px 0px 10px;padding:10px;\">\n",
    "    </div>\n",
    "<div style=\"border:2px solid DarkBlue;margin:0px 10px 10px 10px;padding:10px;\">\n",
    "<h4><u>Exercice 19</u> : </h4><br>\n",
    "Le script ci-dessous est un tri par sélection ; Complétez les  parties remplacées par des #### pour le faire fonctionner correctement dans une cellule de code ci-dessous :<br>\n",
    "    \n",
    "```Python\n",
    "Tab=[20,8,13,5,1]\n",
    "nb = len(Tab)\n",
    "for en_cours in range(0,nb):\n",
    "    plus_petit = en_cours\n",
    "    for j in range(  #### , nb) :\n",
    "        if Tab[j] < Tab[plus_petit] :\n",
    "            plus_petit = ####\n",
    "    if plus_petit != en_cours :\n",
    "        temp = Tab[en_cours]\n",
    "        Tab[en_cours] = Tab[plus_petit]\n",
    "        Tab[plus_petit] = ####\n",
    "print(Tab)\n",
    "```"
   ]
  },
  {
   "cell_type": "code",
   "execution_count": null,
   "id": "7377f6dc",
   "metadata": {},
   "outputs": [],
   "source": []
  },
  {
   "cell_type": "markdown",
   "id": "cd8d2f84",
   "metadata": {
    "deletable": false,
    "editable": false
   },
   "source": [
    "<div style=\"text-align:center; border:2px solid black; font-size: 1.8em;\">\n",
    "<h2>Recherche dichotomique dans un tableau trié</h2>\n",
    "    <br>\n",
    "</div>"
   ]
  },
  {
   "cell_type": "markdown",
   "id": "7f0d6fa0",
   "metadata": {
    "deletable": false,
    "editable": false
   },
   "source": [
    "<div style=\"text-align:center; border:0px ;background-color:DodgerBlue;margin:10px 10px 0px 10px;padding:10px;\">\n",
    "    </div>\n",
    "<div style=\"border:2px solid DarkBlue;margin:0px 10px 10px 10px;padding:10px;\">\n",
    "<h4><u>Exercice 20</u> : </h4><br>\n",
    "Le script ci-dessous est une fonction à compléter permettant une recherche dichotomique : cette fonction contient déjà des doctests qui vous aideront à valider votre code.<br><br>\n",
    "\n",
    "Dans une recherche dichotomique, il nous faudra fixer, à chaque étape, 3 indices :<br>\n",
    "<ul>\n",
    "    <li>Les bornes gauche et droite du tableau à analyser :</li>\n",
    "        <ul>Bg<br>\n",
    "            Bd<br>\n",
    "    </ul>\n",
    "    <li>La position du milieu de notre tableau :</li>\n",
    "        <ul>Mil\n",
    "    </ul>\n",
    "    </ul>\n",
    "<i><b>Compéter la fonction pour qu'elle fonctionne.</b></i>"
   ]
  },
  {
   "cell_type": "code",
   "execution_count": null,
   "id": "7711772c",
   "metadata": {},
   "outputs": [],
   "source": [
    "import doctest\n",
    "def Recherche_dichotomique(Tab, val):\n",
    "    \"\"\" Fonction qui définie si une valeur val est présente ou non dans un tableau Tab déjà trié.\n",
    "    \n",
    "    Parameters\n",
    "    ----------\n",
    "    Tab : TYPE : list\n",
    "        DESCRIPTION : Le tableau d'entiers est ordonné de façon croissante.\n",
    "        \n",
    "    val : TYPE : int.\n",
    "        DESCRIPTION : valeur recherchée dans le tableau.\n",
    "            \n",
    "    >>> Recherche_dichotomique( [ 2, 4, 9, 12, 21 ], 8 )\n",
    "    'La valeur val est absente du tableau.'\n",
    "\n",
    "    >>> Recherche_dichotomique( [ 2, 4, 9, 12, 21 ], 9 )\n",
    "    'La valeur val est dans le tableau : son indice est 2'\n",
    "    \n",
    "    >>> Recherche_dichotomique( [ 7 ], 8 )\n",
    "    'La valeur val est absente du tableau.'\n",
    "    \n",
    "    >>> Recherche_dichotomique( [  ], 8 )\n",
    "    'La valeur val est absente du tableau.'\n",
    "    \n",
    "    \"\"\"\n",
    "\n",
    "    # Votre code ici\n",
    "\n",
    "########\n",
    "doctest.testmod()"
   ]
  },
  {
   "cell_type": "markdown",
   "id": "467d5381",
   "metadata": {
    "deletable": false,
    "editable": false
   },
   "source": [
    "<div style=\"text-align:center; border:2px solid black; font-size: 1.8em;\">\n",
    "<h2>Algorithme glouton</h2>\n",
    "    <br>\n",
    "</div>"
   ]
  },
  {
   "cell_type": "markdown",
   "id": "dd64a3e2",
   "metadata": {
    "deletable": false,
    "editable": false
   },
   "source": [
    "<div style=\"text-align:center; border:0px ;background-color:DodgerBlue;margin:10px 10px 0px 10px;padding:10px;\">\n",
    "    </div>\n",
    "<div style=\"border:2px solid DarkBlue;margin:0px 10px 10px 10px;padding:10px;\">\n",
    "<h4><u>Exercice 21</u> : </h4><br>\n",
    "<ul>\n",
    "    <li>Expliquez à quoi sert un algorithme glouton, <b>et</b> ce qu'il fait dans un cas général : </li>\n",
    "    </ul>"
   ]
  },
  {
   "cell_type": "code",
   "execution_count": null,
   "id": "b80f21b8",
   "metadata": {},
   "outputs": [],
   "source": []
  },
  {
   "cell_type": "markdown",
   "id": "c74a533f",
   "metadata": {
    "deletable": false,
    "editable": false
   },
   "source": [
    "<div style=\"text-align:center; border:0px ;background-color:DodgerBlue;margin:10px 10px 0px 10px;padding:10px;\">\n",
    "    </div>\n",
    "<div style=\"border:2px solid DarkBlue;margin:0px 10px 10px 10px;padding:10px;\">\n",
    "<h4><u>Exercice 22</u> : </h4><br>\n",
    "<ul>\n",
    "    <li>Expliquez, avec des mots, ce que fait précisément l'algorithme glouton dans le cas du rendu de monnaie :</li>\n",
    "    </ul>"
   ]
  },
  {
   "cell_type": "code",
   "execution_count": null,
   "id": "6432ebfa",
   "metadata": {},
   "outputs": [],
   "source": []
  },
  {
   "cell_type": "markdown",
   "id": "acd02782",
   "metadata": {
    "deletable": false,
    "editable": false
   },
   "source": [
    "<div style=\"text-align:center; border:0px ;background-color:DodgerBlue;margin:10px 10px 0px 10px;padding:10px;\">\n",
    "    </div>\n",
    "<div style=\"border:2px solid DarkBlue;margin:0px 10px 10px 10px;padding:10px;\">\n",
    "<h4><u>Exercice 23</u> : </h4><br>\n",
    "Dans le script ci-dessous, on crée une liste de 6 chiffres au hazard (compris entre 0 et 9).<br>\n",
    "Puis, le script renvoie le nombre le plus grand possible avec ces 6 chiffres.<br><br>\n",
    "<u>Exemple</u> :<br>\n",
    "Liste =  [8, 2, 1, 9, 0, 2]<br>\n",
    "Nombre = 982210<br>\n",
    "<ol>\n",
    "    <li>Complétez le script pour qu'il fonctionne.</li>\n",
    "    <li>Expliquez quelle est l'étape répétée dans ce script glouton.</li>\n",
    "    </ol>\n"
   ]
  },
  {
   "cell_type": "code",
   "execution_count": null,
   "id": "7ec86608",
   "metadata": {},
   "outputs": [],
   "source": [
    "import random\n",
    "Liste = [ random.randint(0, 9)  for y in range(6)]\n",
    "\n",
    "print(\"Liste = \",Liste)\n",
    "Nombre = \"\"\n",
    "Index_chiffre_plus_grand = 0\n",
    "chiffre_plus_grand_restant = Liste[Index_chiffre_plus_grand]\n",
    "for b in range(5):\n",
    "    for a in range(len(Liste)):\n",
    "        if Liste[a] > #### :\n",
    "            chiffre_plus_grand_restant = ####\n",
    "            Index_chiffre_plus_grand = a\n",
    "    Nombre = Nombre + str(chiffre_plus_grand_restant)\n",
    "    Liste.remove(####)\n",
    "    Index_chiffre_plus_grand = 0\n",
    "    chiffre_plus_grand_restant = Liste[Index_chiffre_plus_grand]\n",
    "Nombre = Nombre + str(Liste[0])\n",
    "print(\"Nombre =\",Nombre) "
   ]
  },
  {
   "cell_type": "markdown",
   "id": "25b22c69",
   "metadata": {
    "deletable": false,
    "editable": false
   },
   "source": [
    "<div style=\"text-align:center; border:2px solid black; font-size: 1.8em;\">\n",
    "<h2>Architecture matérielle</h2>\n",
    "    <br>\n",
    "</div>"
   ]
  },
  {
   "cell_type": "markdown",
   "id": "5adcbc16",
   "metadata": {
    "deletable": false,
    "editable": false
   },
   "source": [
    "<div style=\"text-align:center; border:0px ;background-color:DodgerBlue;margin:10px 10px 0px 10px;padding:10px;\">\n",
    "    </div>\n",
    "<div style=\"border:2px solid DarkBlue;margin:0px 10px 10px 10px;padding:10px;\">\n",
    "<h4><u>Exercice 24</u> : </h4><br>\n",
    "Allo Houston..? Que fait ce programme en assembleur ?<br><br>\n",
    "\n",
    "&nbsp;&nbsp;&nbsp;&nbsp;&nbsp;&nbsp;MOV R1, #5<br>\n",
    "ici:<br>\n",
    "&nbsp;&nbsp;&nbsp;&nbsp;&nbsp;&nbsp;OUT R1,4<br>\n",
    "&nbsp;&nbsp;&nbsp;&nbsp;&nbsp;&nbsp;CMP R1, #0<br>\n",
    "&nbsp;&nbsp;&nbsp;&nbsp;&nbsp;&nbsp;BEQ la<br>\n",
    "&nbsp;&nbsp;&nbsp;&nbsp;&nbsp;&nbsp;SUB R1, R1, #1<br>\n",
    "&nbsp;&nbsp;&nbsp;&nbsp;&nbsp;&nbsp;B ici<br>\n",
    "la:<br>\n",
    "&nbsp;&nbsp;&nbsp;&nbsp;&nbsp;&nbsp;HALT<br>\n"
   ]
  },
  {
   "cell_type": "code",
   "execution_count": null,
   "id": "0fd639f2",
   "metadata": {},
   "outputs": [],
   "source": []
  }
 ],
 "metadata": {
  "kernelspec": {
   "display_name": "Python 3 (ipykernel)",
   "language": "python",
   "name": "python3"
  },
  "language_info": {
   "codemirror_mode": {
    "name": "ipython",
    "version": 3
   },
   "file_extension": ".py",
   "mimetype": "text/x-python",
   "name": "python",
   "nbconvert_exporter": "python",
   "pygments_lexer": "ipython3",
   "version": "3.9.13"
  }
 },
 "nbformat": 4,
 "nbformat_minor": 5
}
